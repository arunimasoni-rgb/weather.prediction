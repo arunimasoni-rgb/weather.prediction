{
  "nbformat": 4,
  "nbformat_minor": 0,
  "metadata": {
    "colab": {
      "provenance": []
    },
    "kernelspec": {
      "name": "python3",
      "display_name": "Python 3"
    },
    "language_info": {
      "name": "python"
    }
  },
  "cells": [
    {
      "cell_type": "markdown",
      "source": [
        "Section 1: Import Libraries"
      ],
      "metadata": {
        "id": "l7hgLshC3jtR"
      }
    },
    {
      "cell_type": "code",
      "source": [
        "import requests\n",
        "import pandas as pd\n",
        "import numpy as np\n",
        "from sklearn.model_selection import train_test_split\n",
        "from sklearn.preprocessing import LabelEncoder\n",
        "from sklearn.ensemble import RandomForestClassifier, RandomForestRegressor\n",
        "from sklearn.metrics import mean_squared_error\n",
        "from datetime import datetime, timedelta\n",
        "import pytz"
      ],
      "metadata": {
        "id": "DTdt5FXQ3trJ"
      },
      "execution_count": null,
      "outputs": []
    },
    {
      "cell_type": "code",
      "source": [
        "API_KEY ='ebb8f7067cebbc28b4a5d2295d73f24d'\n",
        "BASE_URL ='https://api.openweathermap.org/data/2.5/'"
      ],
      "metadata": {
        "id": "0au7C9B15XsY"
      },
      "execution_count": null,
      "outputs": []
    },
    {
      "cell_type": "markdown",
      "source": [
        "1. Fetch Current Weather Data"
      ],
      "metadata": {
        "id": "qkzfq9WI6sso"
      }
    },
    {
      "cell_type": "code",
      "source": [
        "def get_current_weather(city):\n",
        "    url = f\"{BASE_URL}weather?q={city}&appid={API_KEY}&units=metric\"\n",
        "    response = requests.get(url)\n",
        "    data = response.json()\n",
        "\n",
        "    return {\n",
        "        'city': data['name'],\n",
        "        'current_temp': round(data['main']['temp']),\n",
        "        'feels_like': round(data['main']['feels_like']),\n",
        "        'temp_min': round(data['main']['temp_min']),\n",
        "        'temp_max': round(data['main']['temp_max']),\n",
        "        'humidity': round(data['main']['humidity']),\n",
        "        'description': data['weather'][0]['description'],\n",
        "        'country': data['sys']['country'],\n",
        "        'wind_gust_dir': data['wind']['deg'],\n",
        "        'pressure': data['main']['pressure'],\n",
        "        'Wind_Gust_Speed': data['wind']['speed'],\n",
        "    }"
      ],
      "metadata": {
        "id": "nC0IIB5Z641F"
      },
      "execution_count": null,
      "outputs": []
    },
    {
      "cell_type": "markdown",
      "source": [
        "2. Read Historical Data"
      ],
      "metadata": {
        "id": "5HNyuziH-LB2"
      }
    },
    {
      "cell_type": "code",
      "source": [
        "def read_historical_data(filename):\n",
        "    df = pd.read_csv(filename)\n",
        "    df = df.dropna()\n",
        "    df = df.drop_duplicates()\n",
        "    return df"
      ],
      "metadata": {
        "id": "124bd2gI-Rms"
      },
      "execution_count": null,
      "outputs": []
    },
    {
      "cell_type": "markdown",
      "source": [
        "Prepare Data For Training"
      ],
      "metadata": {
        "id": "mEg5DPYK--ku"
      }
    },
    {
      "cell_type": "code",
      "source": [
        "def prepare_data(data):\n",
        "    le = LabelEncoder()\n",
        "    data['WindGustDir'] = le.fit_transform(data['WindGustDir'])\n",
        "    data['RainTomorrow'] = le.fit_transform(data['RainTomorrow'])\n",
        "\n",
        "    X = data[['MinTemp', 'MaxTemp', 'WindGustDir', 'WindGustSpeed', 'Humidity', 'Pressure', 'Temp']]\n",
        "    y = data['RainTomorrow']\n",
        "\n",
        "    return X, y, le"
      ],
      "metadata": {
        "id": "J7gCdQY5_C3b"
      },
      "execution_count": null,
      "outputs": []
    },
    {
      "cell_type": "markdown",
      "source": [
        "Train Rain Prediction Model"
      ],
      "metadata": {
        "id": "XFum5AqoBBjC"
      }
    },
    {
      "cell_type": "code",
      "source": [
        "def train_rain_model(X, y):\n",
        "    X_train, X_test, y_train, y_test = train_test_split(X, y, test_size=0.2, random_state=42)\n",
        "    model = RandomForestClassifier(n_estimators=100, random_state=42)\n",
        "    model.fit(X_train, y_train)\n",
        "    y_pred = model.predict(X_test)\n",
        "    print(\"Mean Squared Error for Rain Model\")\n",
        "    print(mean_squared_error(y_test, y_pred))\n",
        "    return model"
      ],
      "metadata": {
        "id": "eRe9JMMnBGfa"
      },
      "execution_count": null,
      "outputs": []
    },
    {
      "cell_type": "markdown",
      "source": [
        "3. Prepare Regression Data"
      ],
      "metadata": {
        "id": "iMBGRP0-Cb14"
      }
    },
    {
      "cell_type": "markdown",
      "source": [],
      "metadata": {
        "id": "jsM_WFnSCKie"
      }
    },
    {
      "cell_type": "code",
      "source": [
        "def prepare_regression_data(data, feature):\n",
        "    X, y = [], []\n",
        "\n",
        "    for i in range(len(data) - 1):\n",
        "        X.append(data[feature].iloc[i])\n",
        "        y.append(data[feature].iloc[i + 1])\n",
        "\n",
        "    X = np.array(X).reshape(-1, 1)\n",
        "    y = np.array(y)\n",
        "\n",
        "    return X, y"
      ],
      "metadata": {
        "id": "NKSn9GCKCjD5"
      },
      "execution_count": null,
      "outputs": []
    },
    {
      "cell_type": "markdown",
      "source": [
        "Train Regression Data"
      ],
      "metadata": {
        "id": "zK6dsV0VD142"
      }
    },
    {
      "cell_type": "code",
      "source": [
        "def train_regression_model(X, y):\n",
        "    model = RandomForestRegressor(n_estimators=100, random_state=42)\n",
        "    model.fit(X, y)\n",
        "    return model"
      ],
      "metadata": {
        "id": "PtSHT5ewD5n6"
      },
      "execution_count": null,
      "outputs": []
    },
    {
      "cell_type": "markdown",
      "source": [
        "Predict Future"
      ],
      "metadata": {
        "id": "Yjx6iVW1EZm-"
      }
    },
    {
      "cell_type": "code",
      "source": [
        "def predict_future(model, current_value):\n",
        "    predictions = [current_value]\n",
        "\n",
        "    for i in range(5):\n",
        "        next_value = model.predict(np.array([[predictions[-1]]]))\n",
        "        predictions.append(next_value[0])\n",
        "\n",
        "    return predictions[1:]"
      ],
      "metadata": {
        "id": "PjybnQgSEcq8"
      },
      "execution_count": null,
      "outputs": []
    },
    {
      "cell_type": "markdown",
      "source": [
        "Weather Analysis Function"
      ],
      "metadata": {
        "id": "zfn2orxaFTZQ"
      }
    },
    {
      "cell_type": "code",
      "source": [
        "def weather_view():\n",
        "    city = input('Enter any city name: ')\n",
        "    print(f\"City entered: {city}\")\n",
        "    current_weather = get_current_weather(city)\n",
        "    historical_data = read_historical_data('/content/weather.csv')\n",
        "\n",
        "    # Print columns to debug\n",
        "    print(\"Columns in historical_data:\", historical_data.columns)\n",
        "\n",
        "    X, y, le = prepare_data(historical_data)\n",
        "    rain_model = train_rain_model(X, y)\n",
        "\n",
        "    wind_deg = current_weather['wind_gust_dir'] % 360\n",
        "    compass_points = [\n",
        "        (\"N\", 0, 11.25), (\"NNE\", 11.25, 33.75), (\"NE\", 33.75, 56.25),\n",
        "        (\"ENE\", 56.25, 78.75), (\"E\", 78.75, 101.25), (\"ESE\", 101.25, 123.75),\n",
        "        (\"SE\", 123.25, 146.25), (\"SSE\", 146.25, 168.75), (\"S\", 168.75, 191.25),\n",
        "        (\"SSW\", 191.25, 213.75), (\"SW\", 213.75, 236.25), (\"WSW\", 236.25, 258.75),\n",
        "        (\"W\", 258.75, 281.25), (\"WNW\", 281.25, 303.75), (\"NW\", 303.75, 326.25),\n",
        "        (\"NNW\", 326.25, 348.75), (\"N\", 348.75, 360)\n",
        "    ]\n",
        "\n",
        "    compass_direction = next(point for point, start, end in compass_points if start <= wind_deg < end)\n",
        "    compass_direction_encoded = le.transform([compass_direction])[0] if compass_direction in le.classes_ else -1\n",
        "\n",
        "    current_data = {\n",
        "        'MinTemp': current_weather['temp_min'],\n",
        "        'MaxTemp': current_weather['temp_max'],\n",
        "        'WindGustDir': compass_direction_encoded,\n",
        "        'WindGustSpeed': current_weather['Wind_Gust_Speed'],\n",
        "        'Humidity': current_weather['humidity'],\n",
        "        'Pressure': current_weather['pressure'],\n",
        "        'Temp': current_weather['current_temp'],\n",
        "    }\n",
        "\n",
        "    current_df = pd.DataFrame([current_data])\n",
        "\n",
        "    rain_prediction = rain_model.predict(current_df)[0]\n",
        "\n",
        "    X_temp, y_temp = prepare_regression_data(historical_data, 'Temp')\n",
        "    X_hum, y_hum = prepare_regression_data(historical_data, 'Humidity')\n",
        "    temp_model = train_regression_model(X_temp, y_temp)\n",
        "    hum_model = train_regression_model(X_hum, y_hum)\n",
        "\n",
        "    future_temp = predict_future(temp_model, current_weather['temp_min'])\n",
        "    future_humidity = predict_future(hum_model, current_weather['humidity'])\n",
        "\n",
        "    timezone = pytz.timezone('Asia/Karachi')\n",
        "    now = datetime.now(timezone)\n",
        "    next_hour = now + timedelta(hours=1)\n",
        "    next_hour = next_hour.replace(minute=0, second=0, microsecond=0)\n",
        "    future_times = [(next_hour + timedelta(hours=i)).strftime(\"%H:00\") for i in range(5)]\n",
        "\n",
        "    print(f\"\\nCity: {city}, {current_weather['country']}\")\n",
        "    print(f\"Current Temperature: {current_weather['current_temp']}°C\")\n",
        "    print(f\"Feels Like: {current_weather['feels_like']}°C\")\n",
        "    print(f\"Minimum Temperature: {current_weather['temp_min']}°C\")\n",
        "    print(f\"Maximum Temperature: {current_weather['temp_max']}°C\")\n",
        "    print(f\"Humidity: {current_weather['humidity']}%\")\n",
        "    print(f\"Weather Prediction: {current_weather['description']}\")\n",
        "    print(f\"Rain Prediction: {'Yes' if rain_prediction else 'No'}\")\n",
        "\n",
        "    print(\"\\nFuture Temperature Predictions:\")\n",
        "    for time, temp in zip(future_times, future_temp):\n",
        "        print(f\"{time}: {round(temp, 1)}°C\")\n",
        "\n",
        "    print(\"\\nFuture Humidity Predictions:\")\n",
        "    for time, humidity in zip(future_times, future_humidity):\n",
        "        print(f\"{time}: {round(humidity, 1)}%\")\n",
        "\n",
        "weather_view()"
      ],
      "metadata": {
        "colab": {
          "base_uri": "https://localhost:8080/"
        },
        "id": "1fwK_mN5gfdD",
        "outputId": "c46c1376-195b-4bd4-e0b8-bebf013b7a55"
      },
      "execution_count": null,
      "outputs": [
        {
          "output_type": "stream",
          "name": "stdout",
          "text": [
            "Enter any city name: delhi\n",
            "City entered: delhi\n",
            "Columns in historical_data: Index(['MinTemp', 'MaxTemp', 'WindGustDir', 'WindGustSpeed', 'Humidity',\n",
            "       'Pressure', 'Temp', 'RainTomorrow'],\n",
            "      dtype='object')\n",
            "Mean Squared Error for Rain Model\n",
            "0.1506849315068493\n",
            "\n",
            "City: delhi, IN\n",
            "Current Temperature: 28°C\n",
            "Feels Like: 28°C\n",
            "Minimum Temperature: 28°C\n",
            "Maximum Temperature: 28°C\n",
            "Humidity: 42%\n",
            "Weather Prediction: haze\n",
            "Rain Prediction: No\n",
            "\n",
            "Future Temperature Predictions:\n",
            "11:00: 27.7°C\n",
            "12:00: 22.8°C\n",
            "13:00: 25.4°C\n",
            "14:00: 24.7°C\n",
            "15:00: 23.4°C\n",
            "\n",
            "Future Humidity Predictions:\n",
            "11:00: 40.1%\n",
            "12:00: 45.9%\n",
            "13:00: 48.2%\n",
            "14:00: 53.7%\n",
            "15:00: 58.1%\n"
          ]
        }
      ]
    },
    {
      "cell_type": "code",
      "source": [
        "from google.colab import drive\n",
        "drive.mount('/content/drive')"
      ],
      "metadata": {
        "id": "YfZd_ENJIeJ2"
      },
      "execution_count": null,
      "outputs": []
    }
  ]
}